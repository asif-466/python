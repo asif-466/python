{
 "cells": [
  {
   "cell_type": "markdown",
   "metadata": {},
   "source": [
    "STATIONERY SHOP"
   ]
  },
  {
   "cell_type": "code",
   "execution_count": 28,
   "metadata": {},
   "outputs": [
    {
     "name": "stdout",
     "output_type": "stream",
     "text": [
      "1.PEN\n",
      "2.PENCIL\n",
      "3.SHARPENER\n",
      "4.ERASER\n",
      "0.exit\n",
      "plz enter valid number:\n",
      "1.PEN\n",
      "2.PENCIL\n",
      "3.SHARPENER\n",
      "4.ERASER\n",
      "0.exit\n",
      "exit\n"
     ]
    }
   ],
   "source": [
    "\n",
    "while True:\n",
    "    print(\"1.PEN\")\n",
    "    print(\"2.PENCIL\")\n",
    "    print(\"3.SHARPENER\")\n",
    "    print(\"4.ERASER\")\n",
    "    print(\"0.exit\")\n",
    "\n",
    "    user=int(input(\"SELECT ANY NUMBER:\"))\n",
    "    if user==1:\n",
    "        print(\"1 pen is 5 ruupees\")\n",
    "        q=int(input(\"quantity of pen:\"))\n",
    "        total=q*5\n",
    "        print(\"your total amount is :\",total)\n",
    "\n",
    "    elif user==2:\n",
    "        print(\"1 pencil is 6 ruupees\")\n",
    "        q=int(input(\"quantity of pencil:\"))\n",
    "        total=q*6\n",
    "        print(\"your total amount is :\",total)\n",
    "    elif user==3:\n",
    "        print(\"1 sharpner is 10 ruupees\")\n",
    "        q=int(input(\"quantity of sharpner:\"))\n",
    "        total=q*10\n",
    "        print(\"your total amount is :\",total)\n",
    "    elif user==4:\n",
    "        print(\"1 eraser is 20 ruupees\")\n",
    "        q=int(input(\"quantity of eraser:\"))\n",
    "        total=q*20\n",
    "        print(\"your total amount is :\",total)\n",
    "    elif user==0:\n",
    "        print(\"exit\")\n",
    "        break\n",
    "    else:\n",
    "\n",
    "         print(\"plz enter valid number:\")"
   ]
  }
 ],
 "metadata": {
  "kernelspec": {
   "display_name": "myenv",
   "language": "python",
   "name": "python3"
  },
  "language_info": {
   "codemirror_mode": {
    "name": "ipython",
    "version": 3
   },
   "file_extension": ".py",
   "mimetype": "text/x-python",
   "name": "python",
   "nbconvert_exporter": "python",
   "pygments_lexer": "ipython3",
   "version": "3.12.3"
  }
 },
 "nbformat": 4,
 "nbformat_minor": 2
}
