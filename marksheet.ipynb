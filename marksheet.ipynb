{
 "cells": [
  {
   "cell_type": "markdown",
   "metadata": {},
   "source": [
    "MARKSHEET"
   ]
  },
  {
   "cell_type": "code",
   "execution_count": 17,
   "metadata": {},
   "outputs": [
    {
     "name": "stdout",
     "output_type": "stream",
     "text": [
      "total: 451\n",
      "percentage: 90.2 %\n",
      "Div: FIRST\n"
     ]
    }
   ],
   "source": [
    "name=input(\"enter student name\")\n",
    "eng=int(input(\"enter eng marks\"))\n",
    "hin=int(input(\"enter hin marks\"))\n",
    "math=int(input(\"enter math marks\"))\n",
    "sci=int(input(\"enter sci marks\"))\n",
    "social=int(input(\"enter social marks\"))\n",
    "total=eng+hin+math+sci+social\n",
    "per=total/500*100\n",
    "if per >= 90:\n",
    "    div=\"FIRST\"\n",
    "elif per >=70:\n",
    "    div=\"SECOND\"\n",
    "elif per >=50:\n",
    "    div=\"THIRD\"\n",
    "else:\n",
    "    div=\"FAIL\"\n",
    "print (\"total:\",total)\n",
    "print (\"percentage:\",per,\"%\")\n",
    "print (\"Div:\",div)\n"
   ]
  }
 ],
 "metadata": {
  "kernelspec": {
   "display_name": "myenv",
   "language": "python",
   "name": "python3"
  },
  "language_info": {
   "codemirror_mode": {
    "name": "ipython",
    "version": 3
   },
   "file_extension": ".py",
   "mimetype": "text/x-python",
   "name": "python",
   "nbconvert_exporter": "python",
   "pygments_lexer": "ipython3",
   "version": "3.12.3"
  }
 },
 "nbformat": 4,
 "nbformat_minor": 2
}
