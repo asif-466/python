{
 "cells": [
  {
   "cell_type": "code",
   "execution_count": 15,
   "metadata": {},
   "outputs": [
    {
     "name": "stdout",
     "output_type": "stream",
     "text": [
      "Number of 'n' is: 1\n",
      "Position of 'n' is: 9\n",
      "lenght of user_str: 9\n",
      "Character before 'n' is: i\n",
      "Character after 'n' is: None\n"
     ]
    }
   ],
   "source": [
    "\n",
    "user_str = input(\"Enter any string: \")\n",
    "sub = input(\"Find character: \")\n",
    "\n",
    "count_sub = user_str.count(sub)\n",
    "print(f\"Number of '{sub}' is: {count_sub}\")\n",
    "\n",
    "index_sub = user_str.index(sub)\n",
    "print(f\"Position of '{sub}' is: {index_sub}\")\n",
    "b=len(user_str) -1\n",
    "print(\"lenght of user_str:\",b)\n",
    "    \n",
    "    \n",
    "char_before_sub = user_str[index_sub - 1] if index_sub > 0 else None\n",
    "print(f\"Character before '{sub}' is: {char_before_sub}\")\n",
    "    \n",
    "char_after_sub = user_str[index_sub + 1] if index_sub < b else None\n",
    "print(f\"Character after '{sub}' is: {char_after_sub}\")\n",
    "\n",
    "\n"
   ]
  },
  {
   "cell_type": "markdown",
   "metadata": {},
   "source": []
  }
 ],
 "metadata": {
  "kernelspec": {
   "display_name": "myenv",
   "language": "python",
   "name": "python3"
  },
  "language_info": {
   "codemirror_mode": {
    "name": "ipython",
    "version": 3
   },
   "file_extension": ".py",
   "mimetype": "text/x-python",
   "name": "python",
   "nbconvert_exporter": "python",
   "pygments_lexer": "ipython3",
   "version": "3.12.3"
  }
 },
 "nbformat": 4,
 "nbformat_minor": 2
}
